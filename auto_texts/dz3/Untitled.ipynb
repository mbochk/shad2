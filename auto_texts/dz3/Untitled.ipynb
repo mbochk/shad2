{
 "cells": [
  {
   "cell_type": "code",
   "execution_count": 1,
   "metadata": {
    "collapsed": false
   },
   "outputs": [
    {
     "name": "stdout",
     "output_type": "stream",
     "text": [
      "recall 0.057; precision 0.064; aer 0.939\n"
     ]
    }
   ],
   "source": [
    "!python toy_aligner.py  test/en-cs.en.dev.tokens test/en-cs.cs.dev.tokens > toy.dev.wa\n",
    "!python eval.py test/en-cs.en.dev.tokens test/en-cs.cs.dev.tokens test/en-cs.wa.dev toy.dev.wa "
   ]
  },
  {
   "cell_type": "code",
   "execution_count": 7,
   "metadata": {
    "collapsed": false
   },
   "outputs": [],
   "source": [
    "import word_alignment_partial as wap\n",
    "import eval as eval_\n",
    "\n",
    "def initialize_models(src_corpus, trg_corpus, prior_cls, translation_cls):\n",
    "    prior_model = prior_cls(src_corpus, trg_corpus)\n",
    "    translation_model = translation_cls(src_corpus, trg_corpus)\n",
    "    return prior_model, translation_model\n",
    "\n",
    "def learn_models(src_path, trg_path, prior_cls, translation_cls, num_iterations):\n",
    "    src_corpus, trg_corpus = read_all_tokens(src_path), read_all_tokens(trg_path)\n",
    "    src_corpus, trg_corpus = normalize(src_corpus, trg_corpus)    \n",
    "    prior_model, translation_model = initialize_models(src_corpus, trg_corpus, prior_cls, translation_cls)\n",
    "    prior_model, translation_model = wap.estimate_models(src_corpus, trg_corpus, prior_model, translation_model, num_iterations)    \n",
    "    alignments = wap.align_corpus(src_corpus, trg_corpus, prior_model, translation_model)\n",
    "    return alignments\n",
    "\n",
    "def save_alignments(alignments, output_prefix):\n",
    "    return output_alignments_per_test_set(alignments, output_prefix)\n",
    "\n",
    "def eval_alignments(src_path, trg_path, reference_path, candidate_path):\n",
    "    src_corpus = [line.strip().split() for line in codecs.open(src_path, 'r', 'utf8')]\n",
    "    trg_corpus = [line.strip().split() for line in codecs.open(trg_path, 'r', 'utf8')]\n",
    "    reference = eval_.parse_alignments(reference_path)\n",
    "    candidate = eval_.parse_alignments(candidate_path)\n",
    "    assert eval_.validate(src_corpus, trg_corpus, reference)\n",
    "    assert eval_.validate(src_corpus, trg_corpus, candidate)\n",
    "    score = eval_.score(reference, candidate)\n",
    "    print(\"recall %1.3f; precision %1.3f; aer %1.3f\" % score)\n",
    "    return score"
   ]
  },
  {
   "cell_type": "code",
   "execution_count": 6,
   "metadata": {
    "collapsed": true
   },
   "outputs": [],
   "source": [
    "!mkdir model_alignments"
   ]
  },
  {
   "cell_type": "code",
   "execution_count": 10,
   "metadata": {
    "collapsed": false
   },
   "outputs": [],
   "source": [
    "class ModelTester(object):\n",
    "    learn_src_path = \"small/en-cs.en.all.tokens.10K\"\n",
    "    learn_trg_path = \"small/en-cs.cs.all.tokens.10K\"\n",
    "    \n",
    "    test_src_path = \"test/en-cs.en.dev.tokens\"\n",
    "    test_trg_path = \"test/en-cs.cs.dev.tokens\"\n",
    "    \n",
    "    reference = \"test/en-cs.wa.dev\"\n",
    "    \n",
    "    num_iterations = 10\n",
    "    \n",
    "    @staticmethod\n",
    "    def candidate_path(prefix):\n",
    "        return \"model_alignments/\" + prefix + \".dev.wa\"\n",
    "    \n",
    "    def __call__(self, prior_cls, model_cls, prefix):\n",
    "        alignments = learn_models(self.learn_src_path, self.learn_trg_path,\n",
    "                                  prior_cls, model_cls, num_iterations)\n",
    "        path = self.candidate_path(prefix)\n",
    "        prefix = path.split('.')[0]\n",
    "        save_alignments(alignments, prefix)\n",
    "        score = eval_alignments(self.test_src_path, self.test_trg_path, \n",
    "                                self.reference, path)\n",
    "        return score"
   ]
  },
  {
   "cell_type": "code",
   "execution_count": 11,
   "metadata": {
    "collapsed": true
   },
   "outputs": [],
   "source": [
    "tester = ModelTester()"
   ]
  },
  {
   "cell_type": "code",
   "execution_count": null,
   "metadata": {
    "collapsed": true
   },
   "outputs": [],
   "source": []
  }
 ],
 "metadata": {
  "anaconda-cloud": {},
  "kernelspec": {
   "display_name": "Python [conda env:py35]",
   "language": "python",
   "name": "conda-env-py35-py"
  },
  "language_info": {
   "codemirror_mode": {
    "name": "ipython",
    "version": 3
   },
   "file_extension": ".py",
   "mimetype": "text/x-python",
   "name": "python",
   "nbconvert_exporter": "python",
   "pygments_lexer": "ipython3",
   "version": "3.5.4"
  }
 },
 "nbformat": 4,
 "nbformat_minor": 1
}
