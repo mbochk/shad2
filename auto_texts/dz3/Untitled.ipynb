{
 "cells": [
  {
   "cell_type": "code",
   "execution_count": 2,
   "metadata": {
    "collapsed": false
   },
   "outputs": [
    {
     "name": "stdout",
     "output_type": "stream",
     "text": [
      "recall 0.057; precision 0.064; aer 0.939\n"
     ]
    }
   ],
   "source": [
    "!python toy_aligner.py  test/en-cs.en.dev.tokens test/en-cs.cs.dev.tokens > toy.dev.wa\n",
    "!python eval.py test/en-cs.en.dev.tokens test/en-cs.cs.dev.tokens test/en-cs.wa.dev toy.dev.wa "
   ]
  },
  {
   "cell_type": "code",
   "execution_count": 3,
   "metadata": {
    "collapsed": true
   },
   "outputs": [],
   "source": [
    "import toy_aligner\n",
    "import models"
   ]
  },
  {
   "cell_type": "code",
   "execution_count": 5,
   "metadata": {
    "collapsed": false
   },
   "outputs": [],
   "source": [
    "src_corpus = toy_aligner.read_all_tokens('test/en-cs.en.dev.tokens')\n",
    "trg_corpus = toy_aligner.read_all_tokens('test/en-cs.cs.dev.tokens')"
   ]
  },
  {
   "cell_type": "code",
   "execution_count": 12,
   "metadata": {
    "collapsed": true
   },
   "outputs": [],
   "source": [
    "import word_alignment_partial as wap\n",
    "\n",
    "def initialize_models(src_corpus, trg_corpus):\n",
    "    prior_model = PriorModel(src_corpus, trg_corpus)\n",
    "    translation_model = TranslationModel(src_corpus, trg_corpus)\n",
    "    return prior_model, translation_model\n",
    "\n",
    "\n",
    "class ModelTester(object):\n",
    "    def __init__(self, src_corpus, trg_corpus, num_iters=10):\n",
    "        self.src_corpus, self.trg_corpus = wap.normalize(\n",
    "            src_corpus, trg_corpus)\n",
    "        self.num_iter = num_iter\n",
    "        \n",
    "    def init_models(self, *args)\n",
    "        return [arg(self.src_corpus, self.trg_corpus) for arg in args]\n",
    "        \n",
    "    def test_models(self, prior_cls, trans_cls):\n",
    "        prior_model, trans_model = self.init_models(prior_cls, trans_cls)\n",
    "        src_corpus, trg_corpus = self.src_corpus, self.trg_corpus\n",
    "        \n",
    "        wap.estimate_models(src_corpus, trg_corpus, prior_model, trans_model)\n",
    "        alignments = wap.align_corpus(src_corpus, trg_corpus, prior_model, trans_model)\n",
    "        \n",
    "        \n",
    "        \n",
    "    "
   ]
  },
  {
   "cell_type": "code",
   "execution_count": null,
   "metadata": {
    "collapsed": true
   },
   "outputs": [],
   "source": [
    "if __name__ == \"__main__\":\n",
    "    if not len(sys.argv) == 5:\n",
    "        print(\"Usage ./align.py src_corpus trg_corpus iterations output_prefix.\")\n",
    "        sys.exit(0)\n",
    "    src_corpus, trg_corpus = read_all_tokens(sys.argv[1]), read_all_tokens(sys.argv[2])\n",
    "    src_corpus, trg_corpus = normalize(src_corpus, trg_corpus)\n",
    "    num_iterations = int(sys.argv[3])\n",
    "    output_prefix = sys.argv[4]\n",
    "    assert len(src_corpus) == len(trg_corpus), \"Corpora should be same size!\"\n",
    "    prior_model, translation_model = initialize_models(src_corpus, trg_corpus)\n",
    "    prior_model, translation_model = estimate_models(src_corpus, trg_corpus, prior_model, translation_model, num_iterations)    \n",
    "    alignments = align_corpus(src_corpus, trg_corpus, prior_model, translation_model)\n",
    "    output_alignments_per_test_set(alignments, output_prefix)"
   ]
  }
 ],
 "metadata": {
  "anaconda-cloud": {},
  "kernelspec": {
   "display_name": "Python [conda env:py35]",
   "language": "python",
   "name": "conda-env-py35-py"
  },
  "language_info": {
   "codemirror_mode": {
    "name": "ipython",
    "version": 3
   },
   "file_extension": ".py",
   "mimetype": "text/x-python",
   "name": "python",
   "nbconvert_exporter": "python",
   "pygments_lexer": "ipython3",
   "version": "3.5.4"
  }
 },
 "nbformat": 4,
 "nbformat_minor": 1
}
